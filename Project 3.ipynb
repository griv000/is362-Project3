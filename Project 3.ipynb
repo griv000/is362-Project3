{
 "cells": [
  {
   "attachments": {},
   "cell_type": "markdown",
   "metadata": {},
   "source": [
    "## IS 362 Project 3\n",
    "Your assignment involves combining information from a number of SQL tables, then displaying the information in a pandas DataFrame.\n",
    "For your relational database management system, you may use any RDBMS, including MySQL, PostgreSQL, sqlite, or any of the other RDMBSs supported by the database in Step 1 below.\n",
    "1. For your database, you should download and install the appropriate version of the Chinook database for your RDBMS, which is available here, under the downloads tab: https://chinookdatabase.codeplex.com/\n",
    "2. Your task is to create a pandas DataFrame that displays Customers’ Last Name and First Name, and each customer’s purchased Track names and Album Titles. The information should be sorted by Customer LastName then Customer FirstName."
   ]
  },
  {
   "cell_type": "code",
   "execution_count": 1,
   "metadata": {},
   "outputs": [],
   "source": [
    "# import modules\n",
    "import pandas as pd\n",
    "import sqlite3\n",
    "from sqlalchemy import create_engine"
   ]
  },
  {
   "cell_type": "markdown",
   "metadata": {},
   "source": [
    "Connect to the Chinook database:"
   ]
  },
  {
   "cell_type": "code",
   "execution_count": 2,
   "metadata": {},
   "outputs": [],
   "source": [
    "# Chinook database connection\n",
    "Chinook = sqlite3.connect('Chinook_Sqlite.sqlite')"
   ]
  },
  {
   "cell_type": "markdown",
   "metadata": {},
   "source": [
    "Create pandas dataframe that displays customer name and purchase info:"
   ]
  },
  {
   "cell_type": "code",
   "execution_count": 3,
   "metadata": {},
   "outputs": [],
   "source": [
    "query = '''SELECT Customer.LastName, Customer.FirstName, Track.Name, Album.Title\n",
    "FROM Customer\n",
    "JOIN Invoice ON Customer.CustomerId = Invoice.CustomerId\n",
    "JOIN InvoiceLine ON Invoice.InvoiceId = InvoiceLine.InvoiceId\n",
    "JOIN Track ON InvoiceLine.TrackId = Track.TrackId\n",
    "JOIN Album ON Track.AlbumId = Album.AlbumId\n",
    "ORDER BY Customer.LastName, Customer.FirstName'''"
   ]
  },
  {
   "cell_type": "code",
   "execution_count": 4,
   "metadata": {},
   "outputs": [
    {
     "data": {
      "text/html": [
       "<div>\n",
       "<style scoped>\n",
       "    .dataframe tbody tr th:only-of-type {\n",
       "        vertical-align: middle;\n",
       "    }\n",
       "\n",
       "    .dataframe tbody tr th {\n",
       "        vertical-align: top;\n",
       "    }\n",
       "\n",
       "    .dataframe thead th {\n",
       "        text-align: right;\n",
       "    }\n",
       "</style>\n",
       "<table border=\"1\" class=\"dataframe\">\n",
       "  <thead>\n",
       "    <tr style=\"text-align: right;\">\n",
       "      <th></th>\n",
       "      <th>LastName</th>\n",
       "      <th>FirstName</th>\n",
       "      <th>Name</th>\n",
       "      <th>Title</th>\n",
       "    </tr>\n",
       "  </thead>\n",
       "  <tbody>\n",
       "    <tr>\n",
       "      <td>0</td>\n",
       "      <td>Almeida</td>\n",
       "      <td>Roberto</td>\n",
       "      <td>Right Next Door to Hell</td>\n",
       "      <td>Use Your Illusion I</td>\n",
       "    </tr>\n",
       "    <tr>\n",
       "      <td>1</td>\n",
       "      <td>Almeida</td>\n",
       "      <td>Roberto</td>\n",
       "      <td>In The Evening</td>\n",
       "      <td>In Through The Out Door</td>\n",
       "    </tr>\n",
       "    <tr>\n",
       "      <td>2</td>\n",
       "      <td>Almeida</td>\n",
       "      <td>Roberto</td>\n",
       "      <td>Fool In The Rain</td>\n",
       "      <td>In Through The Out Door</td>\n",
       "    </tr>\n",
       "    <tr>\n",
       "      <td>3</td>\n",
       "      <td>Almeida</td>\n",
       "      <td>Roberto</td>\n",
       "      <td>Saudade Dos Aviões Da Panair (Conversando No Bar)</td>\n",
       "      <td>Minas</td>\n",
       "    </tr>\n",
       "    <tr>\n",
       "      <td>4</td>\n",
       "      <td>Almeida</td>\n",
       "      <td>Roberto</td>\n",
       "      <td>Caso Você Queira Saber</td>\n",
       "      <td>Minas</td>\n",
       "    </tr>\n",
       "    <tr>\n",
       "      <td>...</td>\n",
       "      <td>...</td>\n",
       "      <td>...</td>\n",
       "      <td>...</td>\n",
       "      <td>...</td>\n",
       "    </tr>\n",
       "    <tr>\n",
       "      <td>2235</td>\n",
       "      <td>Zimmermann</td>\n",
       "      <td>Fynn</td>\n",
       "      <td>Nothin' To Lose</td>\n",
       "      <td>Unplugged [Live]</td>\n",
       "    </tr>\n",
       "    <tr>\n",
       "      <td>2236</td>\n",
       "      <td>Zimmermann</td>\n",
       "      <td>Fynn</td>\n",
       "      <td>Since I've Been Loving You</td>\n",
       "      <td>BBC Sessions [Disc 2] [Live]</td>\n",
       "    </tr>\n",
       "    <tr>\n",
       "      <td>2237</td>\n",
       "      <td>Zimmermann</td>\n",
       "      <td>Fynn</td>\n",
       "      <td>Going To California</td>\n",
       "      <td>BBC Sessions [Disc 2] [Live]</td>\n",
       "    </tr>\n",
       "    <tr>\n",
       "      <td>2238</td>\n",
       "      <td>Zimmermann</td>\n",
       "      <td>Fynn</td>\n",
       "      <td>We're Gonna Groove</td>\n",
       "      <td>Coda</td>\n",
       "    </tr>\n",
       "    <tr>\n",
       "      <td>2239</td>\n",
       "      <td>Zimmermann</td>\n",
       "      <td>Fynn</td>\n",
       "      <td>Ozone Baby</td>\n",
       "      <td>Coda</td>\n",
       "    </tr>\n",
       "  </tbody>\n",
       "</table>\n",
       "<p>2240 rows × 4 columns</p>\n",
       "</div>"
      ],
      "text/plain": [
       "        LastName FirstName                                               Name  \\\n",
       "0        Almeida   Roberto                            Right Next Door to Hell   \n",
       "1        Almeida   Roberto                                     In The Evening   \n",
       "2        Almeida   Roberto                                   Fool In The Rain   \n",
       "3        Almeida   Roberto  Saudade Dos Aviões Da Panair (Conversando No Bar)   \n",
       "4        Almeida   Roberto                             Caso Você Queira Saber   \n",
       "...          ...       ...                                                ...   \n",
       "2235  Zimmermann      Fynn                                    Nothin' To Lose   \n",
       "2236  Zimmermann      Fynn                         Since I've Been Loving You   \n",
       "2237  Zimmermann      Fynn                                Going To California   \n",
       "2238  Zimmermann      Fynn                                 We're Gonna Groove   \n",
       "2239  Zimmermann      Fynn                                         Ozone Baby   \n",
       "\n",
       "                             Title  \n",
       "0              Use Your Illusion I  \n",
       "1          In Through The Out Door  \n",
       "2          In Through The Out Door  \n",
       "3                            Minas  \n",
       "4                            Minas  \n",
       "...                            ...  \n",
       "2235              Unplugged [Live]  \n",
       "2236  BBC Sessions [Disc 2] [Live]  \n",
       "2237  BBC Sessions [Disc 2] [Live]  \n",
       "2238                          Coda  \n",
       "2239                          Coda  \n",
       "\n",
       "[2240 rows x 4 columns]"
      ]
     },
     "execution_count": 4,
     "metadata": {},
     "output_type": "execute_result"
    }
   ],
   "source": [
    "# output query results\n",
    "pd.read_sql_query(query, con=Chinook)"
   ]
  }
 ],
 "metadata": {
  "kernelspec": {
   "display_name": "Python 3",
   "language": "python",
   "name": "python3"
  },
  "language_info": {
   "codemirror_mode": {
    "name": "ipython",
    "version": 3
   },
   "file_extension": ".py",
   "mimetype": "text/x-python",
   "name": "python",
   "nbconvert_exporter": "python",
   "pygments_lexer": "ipython3",
   "version": "3.7.4"
  }
 },
 "nbformat": 4,
 "nbformat_minor": 2
}
